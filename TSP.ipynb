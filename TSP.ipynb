{
  "nbformat": 4,
  "nbformat_minor": 0,
  "metadata": {
    "colab": {
      "provenance": []
    },
    "kernelspec": {
      "name": "python3",
      "display_name": "Python 3"
    },
    "language_info": {
      "name": "python"
    }
  },
  "cells": [
    {
      "cell_type": "code",
      "execution_count": 1,
      "metadata": {
        "id": "v-CeYzlw6R8a"
      },
      "outputs": [],
      "source": [
        "def tsp(C, source):\n",
        "    n = len(C)\n",
        "\n",
        "    # function to calculate the minimum distance and path for a set of cities\n",
        "    def g(i, S):\n",
        "        if not S:\n",
        "            return (C[i - 1][source - 1], [i, source]) if i != source else (float('inf'), [])\n",
        "\n",
        "        min_distance = float('inf')\n",
        "        min_path = []\n",
        "        for j in S:\n",
        "            if j != i:\n",
        "                distance, path = g(j, S - {j})\n",
        "                distance += C[i - 1][j - 1]\n",
        "                if distance < min_distance:\n",
        "                    min_distance = distance\n",
        "                    min_path = [i] + path\n",
        "\n",
        "        return min_distance, min_path\n",
        "\n",
        "    def tsp_for_source(source):\n",
        "        all_cities = set(range(1, n + 1))\n",
        "        all_cities.remove(source)\n",
        "\n",
        "        # Calculate the minimum distance and path starting and ending at the source city\n",
        "        min_distance, min_path = g(source, all_cities)\n",
        "\n",
        "        # Add the final leg of the path to return to the source\n",
        "        min_distance += C[min_path[-1] - 1][source - 1]\n",
        "        #min_path.append(source)\n",
        "\n",
        "        return min_distance, min_path\n",
        "\n",
        "    results = {}\n",
        "    for source_city in range(1, n + 1):\n",
        "        best_distance, best_path = tsp_for_source(source_city)\n",
        "        results[source_city] = (best_distance, best_path)\n",
        "\n",
        "    return results"
      ]
    },
    {
      "cell_type": "code",
      "source": [
        "C = [[0, 10, 15, 20],\n",
        "     [5, 0, 9, 10],\n",
        "     [6, 13, 0, 12],\n",
        "     [8, 8, 9, 0]]\n",
        "\n"
      ],
      "metadata": {
        "id": "lHFZMW4L6nu3"
      },
      "execution_count": 2,
      "outputs": []
    },
    {
      "cell_type": "code",
      "source": [
        "for source_city in range(1, len(C) + 1):\n",
        "    result = tsp(C, source_city)\n",
        "    best_distance, best_path = result[source_city]\n",
        "    print(f\"best TSP Distance from city {source_city} to city {source_city}: {best_distance}\")\n",
        "    path_str = ' -> '.join(map(str, best_path))\n",
        "    print(\"best TSP Path:\", path_str)\n"
      ],
      "metadata": {
        "colab": {
          "base_uri": "https://localhost:8080/"
        },
        "id": "BVxWJAGG6tZe",
        "outputId": "53db10a0-4657-4ac2-b544-64c32fdd6f99"
      },
      "execution_count": 3,
      "outputs": [
        {
          "output_type": "stream",
          "name": "stdout",
          "text": [
            "best TSP Distance from city 1 to city 1: 35\n",
            "best TSP Path: 1 -> 2 -> 4 -> 3 -> 1\n",
            "best TSP Distance from city 2 to city 2: 35\n",
            "best TSP Path: 2 -> 4 -> 3 -> 1 -> 2\n",
            "best TSP Distance from city 3 to city 3: 35\n",
            "best TSP Path: 3 -> 1 -> 2 -> 4 -> 3\n",
            "best TSP Distance from city 4 to city 4: 35\n",
            "best TSP Path: 4 -> 3 -> 1 -> 2 -> 4\n"
          ]
        }
      ]
    },
    {
      "cell_type": "code",
      "source": [],
      "metadata": {
        "id": "rckP13I66yKd"
      },
      "execution_count": 3,
      "outputs": []
    }
  ]
}
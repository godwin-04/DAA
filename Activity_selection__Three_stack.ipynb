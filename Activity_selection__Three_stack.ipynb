{
  "nbformat": 4,
  "nbformat_minor": 0,
  "metadata": {
    "colab": {
      "provenance": []
    },
    "kernelspec": {
      "name": "python3",
      "display_name": "Python 3"
    },
    "language_info": {
      "name": "python"
    }
  },
  "cells": [
    {
      "cell_type": "code",
      "execution_count": 1,
      "metadata": {
        "id": "62ZZ4Rr-BGIg"
      },
      "outputs": [],
      "source": [
        "l=[(\"A1\",1,4,10),(\"A2\",3,5,15),(\"A3\",0,6,14),(\"A4\",5,7,12),(\"A5\",3,9,20),(\"A6\",5,9,30),(\"A7\",6,10,32),(\"A8\",8,11,28),(\"A9\",8,12,30),(\"A10\",2,14,40),(\"A11\",12,16,45)]"
      ]
    },
    {
      "cell_type": "code",
      "source": [
        "def activity_selection(l):\n",
        "  l.sort(key=lambda x:x[2])\n",
        "  completed=[]\n",
        "  rest=l.copy();\n",
        "  t=0;\n",
        "  profit=0\n",
        "  for i in l:\n",
        "    if i[1]>=t:\n",
        "      completed.append(i)\n",
        "      rest.remove(i)\n",
        "\n",
        "      t=(i[2])\n",
        "      #print(t)\n",
        "      profit+=i[3]\n",
        "  print(\"Profit:\",profit)\n",
        "  print(\"Selected:\",completed)\n",
        "  import matplotlib.pyplot as plt\n",
        "  task_names = [i[0] for i in l]\n",
        "  start_times = [i[1] for i in l]\n",
        "  durations=[i[2]-i[1] for i in l]\n",
        "\n",
        "  fig, ax = plt.subplots(figsize=(10, 5))\n",
        "  ax.barh(task_names, durations, left=start_times, color='lightgray')\n",
        "  for i in completed:\n",
        "      ax.barh(i[0], i[2] - i[1], left=i[1], color='blue')\n",
        "\n",
        "  ax.set_xlabel('Time')\n",
        "  ax.set_ylabel('Activities')\n",
        "  plt.grid(axis='x')\n",
        "  plt.show()"
      ],
      "metadata": {
        "id": "2-QBroRMPZP5"
      },
      "execution_count": 2,
      "outputs": []
    },
    {
      "cell_type": "code",
      "source": [
        "activity_selection(l)"
      ],
      "metadata": {
        "colab": {
          "base_uri": "https://localhost:8080/",
          "height": 501
        },
        "id": "uy54iFPEQNsu",
        "outputId": "61107f8f-0936-4159-f355-1b7c9345dbc7"
      },
      "execution_count": 3,
      "outputs": [
        {
          "output_type": "stream",
          "name": "stdout",
          "text": [
            "Profit: 95\n",
            "Selected: [('A1', 1, 4, 10), ('A4', 5, 7, 12), ('A8', 8, 11, 28), ('A11', 12, 16, 45)]\n"
          ]
        },
        {
          "output_type": "display_data",
          "data": {
            "text/plain": [
              "<Figure size 1000x500 with 1 Axes>"
            ],
            "image/png": "[encoded data removed]"
          },
          "metadata": {}
        }
      ]
    },
    {
      "cell_type": "code",
      "source": [
        "s1=[3,5,8,5]\n",
        "s2=[2,2,4,9,6,5]\n",
        "s3=[2,1,2,3,5]\n",
        "\n"
      ],
      "metadata": {
        "id": "VwvsLohXQR2s"
      },
      "execution_count": 4,
      "outputs": []
    },
    {
      "cell_type": "code",
      "source": [
        "def max_sum(s1,s2,s3):\n",
        "  s=[s1,s2,s3]\n",
        "  while sum(s1)!=sum(s2) or sum(s2)!=sum(s3):\n",
        "    print(\"stack1\",s1)\n",
        "    print(\"stack2\",s2)\n",
        "    print(\"stack3\",s3)\n",
        "    m=[sum(s1),sum(s2),sum(s3)]\n",
        "    x=m.index(max(m))\n",
        "    tmp=s[x].pop()\n",
        "    print(tmp,\"popped from stack\",x+1,\"\\n\")\n",
        "  print(\"sum:\",sum(s3))"
      ],
      "metadata": {
        "id": "inEtNKydQ72x"
      },
      "execution_count": 5,
      "outputs": []
    },
    {
      "cell_type": "code",
      "source": [
        "max_sum(s1,s2,s3)"
      ],
      "metadata": {
        "colab": {
          "base_uri": "https://localhost:8080/"
        },
        "id": "R_2FhSpxRqeD",
        "outputId": "ba30e7b0-72cd-4932-ce6a-66133fba4660"
      },
      "execution_count": 6,
      "outputs": [
        {
          "output_type": "stream",
          "name": "stdout",
          "text": [
            "stack1 [3, 5, 8, 5]\n",
            "stack2 [2, 2, 4, 9, 6, 5]\n",
            "stack3 [2, 1, 2, 3, 5]\n",
            "5 popped from stack 2 \n",
            "\n",
            "stack1 [3, 5, 8, 5]\n",
            "stack2 [2, 2, 4, 9, 6]\n",
            "stack3 [2, 1, 2, 3, 5]\n",
            "6 popped from stack 2 \n",
            "\n",
            "stack1 [3, 5, 8, 5]\n",
            "stack2 [2, 2, 4, 9]\n",
            "stack3 [2, 1, 2, 3, 5]\n",
            "5 popped from stack 1 \n",
            "\n",
            "stack1 [3, 5, 8]\n",
            "stack2 [2, 2, 4, 9]\n",
            "stack3 [2, 1, 2, 3, 5]\n",
            "9 popped from stack 2 \n",
            "\n",
            "stack1 [3, 5, 8]\n",
            "stack2 [2, 2, 4]\n",
            "stack3 [2, 1, 2, 3, 5]\n",
            "8 popped from stack 1 \n",
            "\n",
            "stack1 [3, 5]\n",
            "stack2 [2, 2, 4]\n",
            "stack3 [2, 1, 2, 3, 5]\n",
            "5 popped from stack 3 \n",
            "\n",
            "sum: 8\n"
          ]
        }
      ]
    }
  ]
}
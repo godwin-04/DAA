{
  "cells": [
    {
      "cell_type": "markdown",
      "metadata": {
        "id": "wU-oUiW_naIn"
      },
      "source": [
        "**ITERATIVE**"
      ]
    },
    {
      "cell_type": "code",
      "execution_count": null,
      "metadata": {
        "colab": {
          "base_uri": "https://localhost:8080/"
        },
        "id": "X5mg2JXLYWqU",
        "outputId": "6a4357f8-bf7d-4d1f-908d-95436225be10"
      },
      "outputs": [
        {
          "name": "stdout",
          "output_type": "stream",
          "text": [
            "LCS: AGCCCAAGGTTAGCTT\n",
            "LCS Length: 16\n",
            "Cost Matrix:\n",
            " 0h  0h  0h  0h  0h  0h  0h  0h  0h  0h  0h  0h  0h  0h  0h  0h  0h  0h  0h  0h  0h  0h  0h  0h \n",
            " 0h  0u  1d  1s  1d  1s  1s  1s  1s  1d  1s  1d  1d  1s  1s  1s  1s  1s  1d  1s  1s  1s  1s  1s \n",
            " 0h  1d  1u  1u  1u  2d  2s  2s  2s  2s  2s  2s  2s  2d  2s  2d  2s  2s  2s  2d  2s  2s  2s  2d \n",
            " 0h  1u  1u  2d  2s  2u  3d  3d  3s  3s  3d  3s  3s  3s  3d  3s  3s  3s  3s  3s  3d  3s  3s  3s \n",
            " 0h  1u  1u  2d  2u  2u  3d  4d  4s  4s  4d  4s  4s  4s  4d  4s  4s  4s  4s  4s  4d  4s  4s  4s \n",
            " 0h  1u  1u  2d  2u  2u  3d  4d  4u  4u  5d  5s  5s  5s  5d  5s  5s  5s  5s  5s  5d  5s  5s  5s \n",
            " 0h  1u  1u  2u  2u  2u  3u  4u  5d  5s  5u  5u  5u  5u  5u  5u  6d  6d  6s  6s  6s  6d  6d  6s \n",
            " 0h  1u  2d  2u  3d  3s  3u  4u  5u  6d  6s  6d  6d  6s  6s  6s  6u  6u  7d  7s  7s  7s  7s  7s \n",
            " 0h  1u  2d  2u  3d  3u  3u  4u  5u  6d  6u  7d  7d  7s  7s  7s  7s  7s  7d  7u  7u  7u  7u  7u \n",
            " 0h  1d  2u  2u  3u  4d  4s  4u  5u  6u  6u  7u  7u  8d  8s  8d  8s  8s  8s  8d  8s  8s  8s  8d \n",
            " 0h  1d  2u  2u  3u  4d  4u  4u  5u  6u  6u  7u  7u  8d  8u  9d  9s  9s  9s  9d  9s  9s  9s  9d \n",
            " 0h  1d  2u  2u  3u  4d  4u  4u  5u  6u  6u  7u  7u  8d  8u  9d  9u  9u  9u 10d 10s 10s 10s 10d \n",
            " 0h  1u  2u  3d  3u  4u  5d  5d  5u  6u  7d  7u  7u  8u  9d  9u  9u  9u  9u 10u 11d 11s 11s 11s \n",
            " 0h  1u  2u  3u  3u  4u  5u  5u  6d  6u  7u  7u  7u  8u  9u  9u 10d 10d 10s 10u 11u 12d 12d 12s \n",
            " 0h  1u  2d  3u  4d  4u  5u  5u  6u  7d  7u  8d  8d  8u  9u  9u 10u 10u 11d 11s 11u 12u 12u 12u \n",
            " 0h  1u  2u  3d  4u  4u  5d  6d  6u  7u  8d  8u  8u  8u  9d  9u 10u 10u 11u 11u 12d 12u 12u 12u \n",
            " 0h  1u  2u  3d  4u  4u  5d  6d  6u  7u  8d  8u  8u  8u  9d  9u 10u 10u 11u 11u 12d 12u 12u 12u \n",
            " 0h  1u  2u  3u  4u  4u  5u  6u  7d  7u  8u  8u  8u  8u  9u  9u 10d 11d 11u 11u 12u 13d 13d 13s \n",
            " 0h  1u  2d  3u  4d  4u  5u  6u  7u  8d  8u  9d  9d  9s  9u  9u 10u 11u 12d 12s 12u 13u 13u 13u \n",
            " 0h  1d  2u  3u  4u  5d  5u  6u  7u  8u  8u  9u  9u 10d 10s 10d 10u 11u 12u 13d 13s 13u 13u 14d \n",
            " 0h  1u  2u  3d  4u  5u  6d  6d  7u  8u  9d  9u  9u 10u 11d 11s 11s 11u 12u 13u 14d 14s 14s 14u \n",
            " 0h  1u  2u  3u  4u  5u  6u  6u  7d  8u  9u  9u  9u 10u 11u 11u 12d 12d 12u 13u 14u 15d 15d 15s \n",
            " 0h  1u  2u  3u  4u  5u  6u  6u  7d  8u  9u  9u  9u 10u 11u 11u 12d 13d 13s 13u 14u 15d 16d 16s \n",
            "Final Cost of LCS: 16\n"
          ]
        }
      ],
      "source": [
        "def print_matrix_with_direction(matrix, X, Y):\n",
        "    m = len(X)\n",
        "    n = len(Y)\n",
        "    for i in range(m + 1):\n",
        "        for j in range(n + 1):\n",
        "            if i == 0 or j == 0:\n",
        "                print(f\"{matrix[i][j]:>2}h\", end=\" \")\n",
        "            else:\n",
        "                if X[i - 1] == Y[j - 1]:\n",
        "                    direction = \"d\"  # diagonal\n",
        "                elif matrix[i - 1][j] >= matrix[i][j - 1]:\n",
        "                    direction = \"u\"  # up\n",
        "                else:\n",
        "                    direction = \"s\"  # side\n",
        "                print(f\"{matrix[i][j]:>2}{direction}\", end=\" \")\n",
        "        print()\n",
        "\n",
        "def longest_common_subsequence(X, Y):\n",
        "    m = len(X)\n",
        "    n = len(Y)\n",
        "    # Create a matrix to store the length of LCS for each subproblem\n",
        "    dp = [[0] * (n + 1) for _ in range(m + 1)]\n",
        "\n",
        "    for i in range(1, m + 1):\n",
        "        for j in range(1, n + 1):\n",
        "            if X[i - 1] == Y[j - 1]:\n",
        "                dp[i][j] = dp[i - 1][j - 1] + 1\n",
        "            else:\n",
        "                dp[i][j] = max(dp[i - 1][j], dp[i][j - 1])\n",
        "\n",
        "    # Retrieve the LCS length from the matrix\n",
        "    lcs_length = dp[m][n]\n",
        "\n",
        "    # Construct the LCS string\n",
        "    lcs = [\"\"] * lcs_length\n",
        "    i, j = m, n\n",
        "    while i > 0 and j > 0:\n",
        "        if X[i - 1] == Y[j - 1]:\n",
        "            lcs[lcs_length - 1] = X[i - 1]\n",
        "            i -= 1\n",
        "            j -= 1\n",
        "            lcs_length -= 1\n",
        "        elif dp[i - 1][j] >= dp[i][j - 1]:\n",
        "            i -= 1\n",
        "        else:\n",
        "            j -= 1\n",
        "\n",
        "    return lcs, len(lcs), dp\n",
        "\n",
        "X = \"AGCCCTAAGGGCTACCTAGCTT\"\n",
        "Y = \"GACAGCCTACAAGCGTTAGCTTG\"\n",
        "lcs, lcs_length, dp = longest_common_subsequence(X, Y)\n",
        "\n",
        "print(\"LCS:\", \"\".join(lcs))\n",
        "print(\"LCS Length:\", lcs_length)\n",
        "print(\"Cost Matrix:\")\n",
        "print_matrix_with_direction(dp, X, Y)\n",
        "print(\"Final Cost of LCS:\", dp[len(X)][len(Y)])\n"
      ]
    },
    {
      "cell_type": "markdown",
      "metadata": {
        "id": "enEH5xdmnFQO"
      },
      "source": [
        "**RECURSIVE**"
      ]
    },
    {
      "cell_type": "code",
      "execution_count": null,
      "metadata": {
        "colab": {
          "base_uri": "https://localhost:8080/"
        },
        "id": "cnffzKYnY-mk",
        "outputId": "1a3f7e27-ffa0-41b2-85ef-a2fa41a80932"
      },
      "outputs": [
        {
          "name": "stdout",
          "output_type": "stream",
          "text": [
            "LCS: AGCCCAAGGTTAGCTT\n",
            "LCS Length: 16\n",
            "Cost Matrix:\n",
            " 0h  0h  0h  0h  0h  0h  0h  0h  0h  0h  0h  0h  0h  0h  0h  0h  0h  0h  0h  0h  0h  0h  0h  0h \n",
            " 0h  0u  1d  1s  1d  1s  1s  1s  1s  1d  1s  1d  1d  1s  1s  1s  1s  1s  1d  1s  1s  1s  1s  1s \n",
            " 0h  1d  1u  1u  1u  2d  2s  2s  2s  2s  2s  2s  2s  2d  2s  2d  2s  2s  2s  2d  2s  2s  2s  2d \n",
            " 0h  1u  1u  2d  2s  2u  3d  3d  3s  3s  3d  3s  3s  3s  3d  3s  3s  3s  3s  3s  3d  3s  3s  3s \n",
            " 0h  1u  1u  2d  2u  2u  3d  4d  4s  4s  4d  4s  4s  4s  4d  4s  4s  4s  4s  4s  4d  4s  4s  4s \n",
            " 0h  1u  1u  2d  2u  2u  3d  4d  4u  4u  5d  5s  5s  5s  5d  5s  5s  5s  5s  5s  5d  5s  5s  5s \n",
            " 0h  1u  1u  2u  2u  2u  3u  4u  5d  5s  5u  5u  5u  5u  5u  5u  6d  6d  6s  6s  6s  6d  6d  6s \n",
            " 0h  1u  2d  2u  3d  3s  3u  4u  5u  6d  6s  6d  6d  6s  6s  6s  6u  6u  7d  7s  7s  7s  7s  7s \n",
            " 0h  1u  2d  2u  3d  3u  3u  4u  5u  6d  6u  7d  7d  7s  7s  7s  7s  7s  7d  7u  7u  7u  7u  7u \n",
            " 0h  1d  2u  2u  3u  4d  4s  4u  5u  6u  6u  7u  7u  8d  8s  8d  8s  8s  8s  8d  8s  8s  8s  8d \n",
            " 0h  1d  2u  2u  3u  4d  4u  4u  5u  6u  6u  7u  7u  8d  8u  9d  9s  9s  9s  9d  9s  9s  9s  9d \n",
            " 0h  1d  2u  2u  3u  4d  4u  4u  5u  6u  6u  7u  7u  8d  8u  9d  9u  9u  9u 10d 10s 10s 10s 10d \n",
            " 0h  1u  2u  3d  3u  4u  5d  5d  5u  6u  7d  7u  7u  8u  9d  9u  9u  9u  9u 10u 11d 11s 11s 11s \n",
            " 0h  1u  2u  3u  3u  4u  5u  5u  6d  6u  7u  7u  7u  8u  9u  9u 10d 10d 10s 10u 11u 12d 12d 12s \n",
            " 0h  1u  2d  3u  4d  4u  5u  5u  6u  7d  7u  8d  8d  8u  9u  9u 10u 10u 11d 11s 11u 12u 12u 12u \n",
            " 0h  1u  2u  3d  4u  4u  5d  6d  6u  7u  8d  8u  8u  8u  9d  9u 10u 10u 11u 11u 12d 12u 12u 12u \n",
            " 0h  1u  2u  3d  4u  4u  5d  6d  6u  7u  8d  8u  8u  8u  9d  9u 10u 10u 11u 11u 12d 12u 12u 12u \n",
            " 0h  1u  2u  3u  4u  4u  5u  6u  7d  7u  8u  8u  8u  8u  9u  9u 10d 11d 11u 11u 12u 13d 13d 13s \n",
            " 0h  1u  2d  3u  4d  4u  5u  6u  7u  8d  8u  9d  9d  9s  9u  9u 10u 11u 12d 12s 12u 13u 13u 13u \n",
            " 0h  1d  2u  3u  4u  5d  5u  6u  7u  8u  8u  9u  9u 10d 10s 10d 10u 11u 12u 13d 13s 13u 13u 14d \n",
            " 0h  1u  2u  3d  4u  5u  6d  6d  7u  8u  9d  9u  9u 10u 11d 11s 11s 11u 12u 13u 14d 14s 14s 14u \n",
            " 0h  1u  2u  3u  4u  5u  6u  6u  7d  8u  9u  9u  9u 10u 11u 11u 12d 12d 12u 13u 14u 15d 15d 15s \n",
            " 0h  1u  2u  3u  4u  5u  6u  6u  7d  8u  9u  9u  9u 10u 11u 11u 12d 13d 13s 13u 14u 15d 16d 16s \n",
            "Final Cost of LCS: 16\n"
          ]
        }
      ],
      "source": [
        "def print_matrix_with_direction(matrix, X, Y):\n",
        "    m = len(X)\n",
        "    n = len(Y)\n",
        "    for i in range(m + 1):\n",
        "        for j in range(n + 1):\n",
        "            if i == 0 or j == 0:\n",
        "                print(f\"{matrix[i][j]:>2}h\", end=\" \")\n",
        "            else:\n",
        "                if X[i - 1] == Y[j - 1]:\n",
        "                    direction = \"d\"  # diagonal\n",
        "                elif matrix[i - 1][j] >= matrix[i][j - 1]:\n",
        "                    direction = \"u\"  # up\n",
        "                else:\n",
        "                    direction = \"s\"  # side\n",
        "                print(f\"{matrix[i][j]:>2}{direction}\", end=\" \")\n",
        "        print()\n",
        "\n",
        "def longest_common_subsequence(X, Y):\n",
        "    m = len(X)\n",
        "    n = len(Y)\n",
        "\n",
        "    dp = [[0] * (n + 1) for _ in range(m + 1)]\n",
        "\n",
        "    for i in range(1, m + 1):\n",
        "        for j in range(1, n + 1):\n",
        "            if X[i - 1] == Y[j - 1]:\n",
        "                dp[i][j] = dp[i - 1][j - 1] + 1\n",
        "            else:\n",
        "                dp[i][j] = max(dp[i - 1][j], dp[i][j - 1])\n",
        "\n",
        "    lcs_length = dp[m][n]\n",
        "\n",
        "    def construct_lcs(i, j):\n",
        "        if i == 0 or j == 0:\n",
        "            return []\n",
        "        if X[i - 1] == Y[j - 1]:\n",
        "            lcs = construct_lcs(i - 1, j - 1)\n",
        "            lcs.append(X[i - 1])\n",
        "            return lcs\n",
        "        if dp[i - 1][j] >= dp[i][j - 1]:\n",
        "            return construct_lcs(i - 1, j)\n",
        "        else:\n",
        "            return construct_lcs(i, j - 1)\n",
        "\n",
        "    lcs = construct_lcs(m, n)\n",
        "\n",
        "    return lcs, lcs_length, dp\n",
        "\n",
        "X = \"AGCCCTAAGGGCTACCTAGCTT\"\n",
        "Y = \"GACAGCCTACAAGCGTTAGCTTG\"\n",
        "lcs, lcs_length, dp = longest_common_subsequence(X, Y)\n",
        "\n",
        "print(\"LCS:\", \"\".join(lcs))\n",
        "print(\"LCS Length:\", lcs_length)\n",
        "print(\"Cost Matrix:\")\n",
        "print_matrix_with_direction(dp, X, Y)\n",
        "print(\"Final Cost of LCS:\", dp[len(X)][len(Y)])\n"
      ]
    },
    {
      "cell_type": "markdown",
      "metadata": {
        "id": "BgJApCpknToZ"
      },
      "source": [
        "**TASK-2**"
      ]
    },
    {
      "cell_type": "code",
      "execution_count": null,
      "metadata": {
        "colab": {
          "base_uri": "https://localhost:8080/"
        },
        "id": "YVgEtQJZcNgY",
        "outputId": "3ef80a02-bfef-4e9d-8052-23fe9f566f0e"
      },
      "outputs": [
        {
          "name": "stdout",
          "output_type": "stream",
          "text": [
            "Palindromic Subsequences:\n",
            "ACTGTCA\n",
            "ACGGCA\n",
            "TTT\n",
            "CGC\n",
            "GCG\n",
            "CTATC\n",
            "ATGTA\n",
            "GCAAACG\n",
            "TAAAT\n",
            "GAG\n",
            "AA\n",
            "ACTCA\n",
            "CTCTC\n",
            "GTGTG\n",
            "CTAAATC\n",
            "GTTG\n",
            "TCT\n",
            "GTCTG\n",
            "TT\n",
            "ACGTGCA\n",
            "GTATG\n",
            "GTTTG\n",
            "ACGCA\n",
            "AGA\n",
            "CTGTC\n",
            "CTTTC\n",
            "CAAC\n",
            "GG\n",
            "GCAACG\n",
            "GCCG\n",
            "ATA\n",
            "GCTCG\n",
            "CGGC\n",
            "TAT\n",
            "GTG\n",
            "CTC\n",
            "GAAG\n",
            "CGTGC\n",
            "AGGA\n",
            "GAAAG\n",
            "AGTGA\n",
            "GTAATG\n",
            "ACTTCA\n",
            "AAAA\n",
            "GTAAATG\n",
            "ATTA\n",
            "CTTC\n",
            "CC\n",
            "CAAAC\n",
            "GCACG\n",
            "GGG\n",
            "AAA\n",
            "CTAATC\n",
            "ACA\n",
            "CAC\n",
            "TGT\n",
            "TAAT\n",
            "ACCA\n",
            "CCC\n",
            "Total Number of Palindromic Subsequences: 59\n"
          ]
        }
      ],
      "source": [
        "def is_palindrome(subsequence):\n",
        "    return subsequence == subsequence[::-1]\n",
        "\n",
        "def find_palindrome_subsequences(sequence):\n",
        "    def backtrack(start, path):\n",
        "        if len(path) >= 2 and is_palindrome(path):\n",
        "            palindromic_subsequences.add(path)\n",
        "        if start == len(sequence):\n",
        "            return\n",
        "\n",
        "        for i in range(start, len(sequence)):\n",
        "            path += sequence[i]\n",
        "            backtrack(i + 1, path)\n",
        "            path = path[:-1]\n",
        "\n",
        "    palindromic_subsequences = set()\n",
        "    backtrack(0, \"\")\n",
        "\n",
        "    return list(palindromic_subsequences)\n",
        "\n",
        "sequence = \"ACGTGTCAAATCG\"\n",
        "palindrome_subsequences = find_palindrome_subsequences(sequence)\n",
        "print(\"Palindromic Subsequences:\")\n",
        "for subsequence in palindrome_subsequences:\n",
        "    print(subsequence)\n",
        "print(\"Total Number of Palindromic Subsequences:\", len(palindrome_subsequences))"
      ]
    },
    {
      "cell_type": "code",
      "execution_count": null,
      "metadata": {
        "id": "kScSSNzRmNdC"
      },
      "outputs": [],
      "source": []
    }
  ],
  "metadata": {
    "colab": {
      "provenance": []
    },
    "kernelspec": {
      "display_name": "Python 3",
      "name": "python3"
    },
    "language_info": {
      "name": "python"
    }
  },
  "nbformat": 4,
  "nbformat_minor": 0
}
